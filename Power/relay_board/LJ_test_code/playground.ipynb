{
 "cells": [
  {
   "cell_type": "code",
   "execution_count": 1,
   "metadata": {},
   "outputs": [],
   "source": [
    "from labjack import ljm\n",
    "import time\n",
    "import numpy as np\n",
    "import matplotlib.pyplot as plt"
   ]
  },
  {
   "cell_type": "code",
   "execution_count": 2,
   "metadata": {},
   "outputs": [
    {
     "name": "stdout",
     "output_type": "stream",
     "text": [
      "Opened a LabJack with Device type: 7, Connection type: 3,\n",
      "Serial number: 470028060, IP address: 192.168.1.110, Port: 502,\n",
      "Max bytes per MB: 1040\n"
     ]
    }
   ],
   "source": [
    "# Open first found LabJack\n",
    "#handle = ljm.openS(\"ANY\", \"ANY\", \"ANY\")  # Any device, Any connection, Any identifier\n",
    "handle = ljm.openS(\"T7\", \"LJM_ctETHERNET\", \"LJM_idANY\")  # T7 device, Any connection, Any identifier\n",
    "#handle = ljm.openS(\"T7\", \"ANY\", \"ANY\")  # T4 device, Any connection, Any identifier\n",
    "#handle = ljm.open(ljm.constants.dtANY, ljm.constants.ctANY, \"ANY\")  # Any device, Any connection, Any identifier\n",
    "#handle = ljm_open(LJM_dtT7, LJM_ctETHERNET, \"470010729\", ...)\n",
    "\n",
    "info = ljm.getHandleInfo(handle)\n",
    "print(\"Opened a LabJack with Device type: %i, Connection type: %i,\\n\"\n",
    "      \"Serial number: %i, IP address: %s, Port: %i,\\nMax bytes per MB: %i\" %\n",
    "      (info[0], info[1], info[2], ljm.numberToIP(info[3]), info[4], info[5]))\n",
    "\n",
    "def write_to(name, state):\n",
    "    deviceType = info[0]\n",
    "    # Output state = low (0 = low, 1 = high)\n",
    "    ljm.eWriteName(handle, name, state)\n",
    "    print(\"\\nSet %s state : %f\" % (name, state))\n",
    "\n"
   ]
  },
  {
   "cell_type": "code",
   "execution_count": 3,
   "metadata": {},
   "outputs": [],
   "source": [
    "def switch_on(num):\n",
    "    write_to(\"DIO\"+str(2*num-1), 0)\n",
    "    write_to(\"DIO\"+str(2*num), 1)\n",
    "\n",
    "def switch_off(num):\n",
    "    write_to(\"DIO\"+str(2*num-1), 1)\n",
    "    write_to(\"DIO\"+str(2*num), 0)"
   ]
  },
  {
   "cell_type": "code",
   "execution_count": 4,
   "metadata": {},
   "outputs": [],
   "source": [
    "def switch_all_off(delay=0.1):\n",
    "    for i in range(1, 11):\n",
    "        time.sleep(delay)\n",
    "        switch_off(i)\n",
    "\n",
    "def switch_all_on(delay=0.1):\n",
    "    for i in range(1, 11):\n",
    "        time.sleep(delay)\n",
    "        switch_on(i)\n",
    "\n",
    "def set_all_dio_to_zero(delay=0.1):\n",
    "    for i in range(1, 11):\n",
    "        time.sleep(delay)\n",
    "        write_to(\"DIO\"+str(2*i-1), 0)\n",
    "        write_to(\"DIO\"+str(2*i), 0)\n",
    "\n",
    "def set_all_dio_to_one(delay=0.1):\n",
    "    for i in range(1, 11):\n",
    "        time.sleep(delay)\n",
    "        write_to(\"DIO\"+str(2*i), 1)\n",
    "        write_to(\"DIO\"+str(2*i-1), 1)\n",
    "\n",
    "def set_even_dio(state, delay=0.1):\n",
    "    for i in range(1, 11):\n",
    "        time.sleep(delay)\n",
    "        write_to(\"DIO\"+str(2*i), state)\n",
    "\n",
    "def set_odd_dio(state, delay=0.1):\n",
    "    for i in range(1, 11):\n",
    "        time.sleep(delay)\n",
    "        write_to(\"DIO\"+str(2*i-1), state)"
   ]
  },
  {
   "cell_type": "code",
   "execution_count": null,
   "metadata": {},
   "outputs": [],
   "source": [
    "192.168.1.110"
   ]
  },
  {
   "cell_type": "code",
   "execution_count": 20,
   "metadata": {},
   "outputs": [
    {
     "name": "stdout",
     "output_type": "stream",
     "text": [
      "\n",
      "Set DIO1 state : 0.000000\n",
      "\n",
      "Set DIO2 state : 1.000000\n"
     ]
    }
   ],
   "source": [
    "switch_on(1)"
   ]
  },
  {
   "cell_type": "code",
   "execution_count": null,
   "metadata": {},
   "outputs": [],
   "source": [
    "set_all_dio_to_zero()"
   ]
  },
  {
   "cell_type": "code",
   "execution_count": 7,
   "metadata": {},
   "outputs": [
    {
     "name": "stdout",
     "output_type": "stream",
     "text": [
      "\n",
      "Set DIO1 state : 1.000000\n",
      "\n",
      "Set DIO2 state : 0.000000\n",
      "\n",
      "Set DIO3 state : 1.000000\n",
      "\n",
      "Set DIO4 state : 0.000000\n",
      "\n",
      "Set DIO5 state : 1.000000\n",
      "\n",
      "Set DIO6 state : 0.000000\n",
      "\n",
      "Set DIO7 state : 1.000000\n",
      "\n",
      "Set DIO8 state : 0.000000\n",
      "\n",
      "Set DIO9 state : 1.000000\n",
      "\n",
      "Set DIO10 state : 0.000000\n",
      "\n",
      "Set DIO11 state : 1.000000\n",
      "\n",
      "Set DIO12 state : 0.000000\n",
      "\n",
      "Set DIO13 state : 1.000000\n",
      "\n",
      "Set DIO14 state : 0.000000\n",
      "\n",
      "Set DIO15 state : 1.000000\n",
      "\n",
      "Set DIO16 state : 0.000000\n",
      "\n",
      "Set DIO17 state : 1.000000\n",
      "\n",
      "Set DIO18 state : 0.000000\n",
      "\n",
      "Set DIO19 state : 1.000000\n",
      "\n",
      "Set DIO20 state : 0.000000\n"
     ]
    }
   ],
   "source": [
    "switch_all_off()"
   ]
  },
  {
   "cell_type": "code",
   "execution_count": 6,
   "metadata": {},
   "outputs": [
    {
     "name": "stdout",
     "output_type": "stream",
     "text": [
      "\n",
      "Set DIO1 state : 0.000000\n",
      "\n",
      "Set DIO2 state : 1.000000\n",
      "\n",
      "Set DIO3 state : 0.000000\n",
      "\n",
      "Set DIO4 state : 1.000000\n",
      "\n",
      "Set DIO5 state : 0.000000\n",
      "\n",
      "Set DIO6 state : 1.000000\n",
      "\n",
      "Set DIO7 state : 0.000000\n",
      "\n",
      "Set DIO8 state : 1.000000\n",
      "\n",
      "Set DIO9 state : 0.000000\n",
      "\n",
      "Set DIO10 state : 1.000000\n",
      "\n",
      "Set DIO11 state : 0.000000\n",
      "\n",
      "Set DIO12 state : 1.000000\n",
      "\n",
      "Set DIO13 state : 0.000000\n",
      "\n",
      "Set DIO14 state : 1.000000\n",
      "\n",
      "Set DIO15 state : 0.000000\n",
      "\n",
      "Set DIO16 state : 1.000000\n",
      "\n",
      "Set DIO17 state : 0.000000\n",
      "\n",
      "Set DIO18 state : 1.000000\n",
      "\n",
      "Set DIO19 state : 0.000000\n",
      "\n",
      "Set DIO20 state : 1.000000\n"
     ]
    }
   ],
   "source": [
    "switch_all_on()"
   ]
  },
  {
   "cell_type": "code",
   "execution_count": null,
   "metadata": {},
   "outputs": [],
   "source": [
    "set_all_dio_to_one()"
   ]
  },
  {
   "cell_type": "code",
   "execution_count": null,
   "metadata": {},
   "outputs": [],
   "source": [
    "# Close handle\n",
    "ljm.close(handle)"
   ]
  },
  {
   "cell_type": "markdown",
   "metadata": {},
   "source": [
    "# Read AIN"
   ]
  },
  {
   "cell_type": "code",
   "execution_count": 32,
   "metadata": {},
   "outputs": [],
   "source": [
    "def read(name):\n",
    "    result = ljm.eReadName(handle, name)\n",
    "    # print(\"\\n%s state : %f\" % (name, result))\n",
    "    return result"
   ]
  },
  {
   "cell_type": "code",
   "execution_count": 7,
   "metadata": {},
   "outputs": [
    {
     "name": "stdout",
     "output_type": "stream",
     "text": [
      "0\n",
      "1\n",
      "2\n",
      "3\n",
      "4\n",
      "5\n",
      "6\n",
      "7\n",
      "8\n",
      "9\n"
     ]
    }
   ],
   "source": [
    "data_off = {}\n",
    "for i in range(1, 15):\n",
    "    data_off[\"AIN\"+str(i)] = np.array([])\n",
    "for ind in range(10):\n",
    "    print(ind)\n",
    "    time.sleep(0.5)\n",
    "    for i in range(1, 15):\n",
    "        data_off[\"AIN\"+str(i)] = np.append(data_off[\"AIN\"+str(i)], read(\"AIN\"+str(i)))"
   ]
  },
  {
   "cell_type": "code",
   "execution_count": 42,
   "metadata": {},
   "outputs": [
    {
     "name": "stdout",
     "output_type": "stream",
     "text": [
      "\n",
      "Set DIO1 state : 0.000000\n",
      "\n",
      "Set DIO2 state : 1.000000\n",
      "\n",
      "Set DIO3 state : 0.000000\n",
      "\n",
      "Set DIO4 state : 1.000000\n",
      "\n",
      "Set DIO5 state : 0.000000\n",
      "\n",
      "Set DIO6 state : 1.000000\n",
      "\n",
      "Set DIO7 state : 0.000000\n",
      "\n",
      "Set DIO8 state : 1.000000\n",
      "\n",
      "Set DIO9 state : 0.000000\n",
      "\n",
      "Set DIO10 state : 1.000000\n",
      "\n",
      "Set DIO11 state : 0.000000\n",
      "\n",
      "Set DIO12 state : 1.000000\n",
      "\n",
      "Set DIO13 state : 0.000000\n",
      "\n",
      "Set DIO14 state : 1.000000\n",
      "\n",
      "Set DIO15 state : 0.000000\n",
      "\n",
      "Set DIO16 state : 1.000000\n",
      "\n",
      "Set DIO17 state : 0.000000\n",
      "\n",
      "Set DIO18 state : 1.000000\n",
      "\n",
      "Set DIO19 state : 0.000000\n",
      "\n",
      "Set DIO20 state : 1.000000\n"
     ]
    }
   ],
   "source": [
    "switch_all_on()"
   ]
  },
  {
   "cell_type": "code",
   "execution_count": null,
   "metadata": {},
   "outputs": [],
   "source": [
    "data = {}\n",
    "for i in range(1, 15):\n",
    "    data[\"AIN\"+str(i)] = np.array([])\n",
    "for ind in range(10):\n",
    "    print(ind)\n",
    "    time.sleep(0.5)\n",
    "    for i in range(1, 15):\n",
    "        data[\"AIN\"+str(i)] = np.append(data[\"AIN\"+str(i)], read(\"AIN\"+str(i)))"
   ]
  },
  {
   "cell_type": "code",
   "execution_count": null,
   "metadata": {},
   "outputs": [],
   "source": [
    "fig, axes = plt.subplots(7, 2, figsize=(10, 10))\n",
    "for i, ax in enumerate(axes.ravel()):\n",
    "    ax.plot(data_off[\"AIN\"+str(i)])\n",
    "    ax.set_title(\"AIN\"+str(i))\n",
    "    ax.set_ylim(np.floor(np.nanmin(data_off[\"AIN\"+str(i+1)])), np.ceil(np.nanmax(data_off[\"AIN\"+str(i+1)])))\n",
    "    ax.axhline(0.5, color=\"red\")\n",
    "\n",
    "plt.show()"
   ]
  },
  {
   "cell_type": "code",
   "execution_count": null,
   "metadata": {},
   "outputs": [],
   "source": [
    "fig, axes = plt.subplots(7, 2, figsize=(10, 10))\n",
    "for i, ax in enumerate(axes.ravel()):\n",
    "    ax.plot(data[\"AIN\"+str(i+1)])\n",
    "    ax.set_title(\"AIN\"+str(i+1))\n",
    "    ax.set_ylim(np.floor(np.nanmin(data[\"AIN\"+str(i+1)])), np.ceil(np.nanmax(data[\"AIN\"+str(i+1)])))\n",
    "    ax.axhline(0.5, color=\"red\")\n",
    "\n",
    "plt.show()"
   ]
  },
  {
   "cell_type": "code",
   "execution_count": null,
   "metadata": {},
   "outputs": [],
   "source": [
    "data[\"AIN11\"] - data_off[\"AIN11\"]"
   ]
  },
  {
   "cell_type": "code",
   "execution_count": null,
   "metadata": {},
   "outputs": [],
   "source": [
    "for i in range(1, 15):\n",
    "    print(i)\n",
    "    print(np.nanmedian(data_off[\"AIN\"+str(i)], axis=0))\n",
    "    print(np.nanmedian(data[\"AIN\"+str(i)], axis=0))\n",
    "    print(np.nanmedian(data[\"AIN\"+str(i)] - data_off[\"AIN\"+str(i)], axis=0))"
   ]
  },
  {
   "cell_type": "code",
   "execution_count": null,
   "metadata": {},
   "outputs": [],
   "source": [
    "(12/5.2)/2.22"
   ]
  },
  {
   "cell_type": "markdown",
   "metadata": {},
   "source": [
    "# Stress Tests"
   ]
  },
  {
   "cell_type": "code",
   "execution_count": 51,
   "metadata": {},
   "outputs": [
    {
     "name": "stdout",
     "output_type": "stream",
     "text": [
      "\n",
      "Set DIO1 state : 1.000000\n",
      "\n",
      "Set DIO2 state : 0.000000\n",
      "\n",
      "Set DIO3 state : 1.000000\n",
      "\n",
      "Set DIO4 state : 0.000000\n",
      "\n",
      "Set DIO5 state : 1.000000\n",
      "\n",
      "Set DIO6 state : 0.000000\n",
      "\n",
      "Set DIO7 state : 1.000000\n",
      "\n",
      "Set DIO8 state : 0.000000\n",
      "\n",
      "Set DIO9 state : 1.000000\n",
      "\n",
      "Set DIO10 state : 0.000000\n",
      "\n",
      "Set DIO11 state : 1.000000\n",
      "\n",
      "Set DIO12 state : 0.000000\n",
      "\n",
      "Set DIO13 state : 1.000000\n",
      "\n",
      "Set DIO14 state : 0.000000\n",
      "\n",
      "Set DIO15 state : 1.000000\n",
      "\n",
      "Set DIO16 state : 0.000000\n",
      "\n",
      "Set DIO17 state : 1.000000\n",
      "\n",
      "Set DIO18 state : 0.000000\n",
      "\n",
      "Set DIO19 state : 1.000000\n",
      "\n",
      "Set DIO20 state : 0.000000\n"
     ]
    }
   ],
   "source": [
    "switch_all_off(0)"
   ]
  },
  {
   "cell_type": "code",
   "execution_count": null,
   "metadata": {},
   "outputs": [],
   "source": [
    "switch_off(2)"
   ]
  },
  {
   "cell_type": "code",
   "execution_count": null,
   "metadata": {},
   "outputs": [],
   "source": [
    "for i in range(10000):\n",
    "    time.sleep(0.05)\n",
    "    switch_all_on(0.01)\n",
    "    time.sleep(0.05)\n",
    "    switch_all_off(0.01)"
   ]
  },
  {
   "cell_type": "code",
   "execution_count": 10,
   "metadata": {},
   "outputs": [
    {
     "data": {
      "text/plain": [
       "0.4972923994064331"
      ]
     },
     "execution_count": 10,
     "metadata": {},
     "output_type": "execute_result"
    }
   ],
   "source": [
    "read(\"AIN13\")"
   ]
  },
  {
   "cell_type": "markdown",
   "metadata": {},
   "source": [
    "# Juzz Tests"
   ]
  },
  {
   "cell_type": "code",
   "execution_count": 29,
   "metadata": {},
   "outputs": [],
   "source": [
    "I1 = {\"LJKey\": \"AIN13\" , \"Data\": []}\n",
    "I2 = {\"LJKey\": \"AIN11\" , \"Data\": []}\n",
    "I3 = {\"LJKey\": \"AIN9\" , \"Data\": []}\n",
    "I4 = {\"LJKey\": \"AIN7\" , \"Data\": []}\n",
    "I5 = {\"LJKey\": \"AIN5\" , \"Data\": []}\n",
    "I6 = {\"LJKey\": \"AIN3\" , \"Data\": []}\n",
    "I7 = {\"LJKey\": \"AIN1\" , \"Data\": []}\n",
    "I8 = {\"LJKey\": \"AIN10\" , \"Data\": []}\n",
    "I9 = {\"LJKey\": \"AIN8\" , \"Data\":[]}\n",
    "I10 ={\"LJKey\": \"AIN6\" , \"Data\": []}\n",
    "V1 = {\"LJKey\": \"AIN4\" , \"Data\": []}\n",
    "V2 = {\"LJKey\": \"AIN2\" , \"Data\": []}\n",
    "V3 = {\"LJKey\": \"AIN0\" , \"Data\": []}\n",
    "\n",
    "RelayCurrentList = [I1,I2,I3,I4,I5,I6,I7,I8,I9,I10]"
   ]
  },
  {
   "cell_type": "code",
   "execution_count": 42,
   "metadata": {},
   "outputs": [
    {
     "name": "stdout",
     "output_type": "stream",
     "text": [
      "\n",
      "Set DIO1 state : 0.000000\n",
      "\n",
      "Set DIO2 state : 1.000000\n",
      "\n",
      "Set DIO3 state : 0.000000\n",
      "\n",
      "Set DIO4 state : 1.000000\n",
      "\n",
      "Set DIO5 state : 0.000000\n",
      "\n",
      "Set DIO6 state : 1.000000\n",
      "\n",
      "Set DIO7 state : 0.000000\n",
      "\n",
      "Set DIO8 state : 1.000000\n",
      "\n",
      "Set DIO9 state : 0.000000\n",
      "\n",
      "Set DIO10 state : 1.000000\n",
      "\n",
      "Set DIO11 state : 0.000000\n",
      "\n",
      "Set DIO12 state : 1.000000\n",
      "\n",
      "Set DIO13 state : 0.000000\n",
      "\n",
      "Set DIO14 state : 1.000000\n",
      "\n",
      "Set DIO15 state : 0.000000\n",
      "\n",
      "Set DIO16 state : 1.000000\n",
      "\n",
      "Set DIO17 state : 0.000000\n",
      "\n",
      "Set DIO18 state : 1.000000\n",
      "\n",
      "Set DIO19 state : 0.000000\n",
      "\n",
      "Set DIO20 state : 1.000000\n"
     ]
    }
   ],
   "source": [
    "switch_all_on(0.1)"
   ]
  },
  {
   "cell_type": "code",
   "execution_count": 43,
   "metadata": {},
   "outputs": [
    {
     "data": {
      "image/png": "[encoded data removed]",
      "text/plain": [
       "<Figure size 1000x1000 with 10 Axes>"
      ]
     },
     "metadata": {},
     "output_type": "display_data"
    }
   ],
   "source": [
    "I1 = {\"LJKey\": \"AIN13\" , \"Data\": []}\n",
    "I2 = {\"LJKey\": \"AIN11\" , \"Data\": []}\n",
    "I3 = {\"LJKey\": \"AIN9\" , \"Data\": []}\n",
    "I4 = {\"LJKey\": \"AIN7\" , \"Data\": []}\n",
    "I5 = {\"LJKey\": \"AIN5\" , \"Data\": []}\n",
    "I6 = {\"LJKey\": \"AIN3\" , \"Data\": []}\n",
    "I7 = {\"LJKey\": \"AIN1\" , \"Data\": []}\n",
    "I8 = {\"LJKey\": \"AIN10\" , \"Data\": []}\n",
    "I9 = {\"LJKey\": \"AIN8\" , \"Data\":[]}\n",
    "I10 ={\"LJKey\": \"AIN6\" , \"Data\": []}\n",
    "V1 = {\"LJKey\": \"AIN4\" , \"Data\": []}\n",
    "V2 = {\"LJKey\": \"AIN2\" , \"Data\": []}\n",
    "V3 = {\"LJKey\": \"AIN0\" , \"Data\": []}\n",
    "\n",
    "RelayCurrentList = [I1,I2,I3,I4,I5,I6,I7,I8,I9,I10]\n",
    "\n",
    "for i in range(20):\n",
    "    for index, current in enumerate(RelayCurrentList):\n",
    "        current[\"Data\"].append(read(current[\"LJKey\"]))\n",
    "        time.sleep(0.06)\n",
    "        \n",
    "\n",
    "fig, axes = plt.subplots(5, 2, figsize=(10, 10))\n",
    "for index, current in enumerate(RelayCurrentList):\n",
    "    if index <5:\n",
    "        axes[index][0].plot(current[\"Data\"])\n",
    "        axes[index][0].set_title(\"I\"+ str(index+1))\n",
    "        axes[index][0].axhline(0.5, color=\"red\")\n",
    "    if index >=5:\n",
    "        axes[index-5][1].plot(current[\"Data\"])\n",
    "        axes[index-5][1].set_title(\"I\"+ str(index+1))\n",
    "        axes[index-5][1].axhline(0.5, color=\"red\")\n",
    "    #ax.set_ylim(np.floor(np.nanmin(data_off[\"AIN\"+str(i+1)])), np.ceil(np.nanmax(data_off[\"AIN\"+str(i+1)])))\n",
    "fig.tight_layout()\n",
    "plt.show()"
   ]
  },
  {
   "cell_type": "code",
   "execution_count": 40,
   "metadata": {},
   "outputs": [
    {
     "name": "stdout",
     "output_type": "stream",
     "text": [
      "\n",
      "Set DIO1 state : 1.000000\n",
      "\n",
      "Set DIO2 state : 0.000000\n",
      "\n",
      "Set DIO3 state : 1.000000\n",
      "\n",
      "Set DIO4 state : 0.000000\n",
      "\n",
      "Set DIO5 state : 1.000000\n",
      "\n",
      "Set DIO6 state : 0.000000\n",
      "\n",
      "Set DIO7 state : 1.000000\n",
      "\n",
      "Set DIO8 state : 0.000000\n",
      "\n",
      "Set DIO9 state : 1.000000\n",
      "\n",
      "Set DIO10 state : 0.000000\n",
      "\n",
      "Set DIO11 state : 1.000000\n",
      "\n",
      "Set DIO12 state : 0.000000\n",
      "\n",
      "Set DIO13 state : 1.000000\n",
      "\n",
      "Set DIO14 state : 0.000000\n",
      "\n",
      "Set DIO15 state : 1.000000\n",
      "\n",
      "Set DIO16 state : 0.000000\n",
      "\n",
      "Set DIO17 state : 1.000000\n",
      "\n",
      "Set DIO18 state : 0.000000\n",
      "\n",
      "Set DIO19 state : 1.000000\n",
      "\n",
      "Set DIO20 state : 0.000000\n"
     ]
    }
   ],
   "source": [
    "switch_all_off(0.1)"
   ]
  },
  {
   "cell_type": "code",
   "execution_count": 38,
   "metadata": {},
   "outputs": [
    {
     "data": {
      "text/plain": [
       "[1.428470492362976,\n",
       " 1.4258652925491333,\n",
       " 1.4238916635513306,\n",
       " 1.4161548614501953,\n",
       " 1.434470534324646,\n",
       " 1.4218389987945557,\n",
       " 1.4160759449005127,\n",
       " 1.4219969511032104,\n",
       " 1.4230232238769531,\n",
       " 1.4216021299362183,\n",
       " 1.4205758571624756,\n",
       " 1.4238126277923584,\n",
       " 1.4241284132003784,\n",
       " 1.4218389987945557,\n",
       " 1.422707438468933,\n",
       " 1.4216811656951904,\n",
       " 1.433523178100586,\n",
       " 1.4191547632217407,\n",
       " 1.420181155204773,\n",
       " 1.4234968423843384]"
      ]
     },
     "execution_count": 38,
     "metadata": {},
     "output_type": "execute_result"
    }
   ],
   "source": [
    "I1[\"Data\"]"
   ]
  },
  {
   "cell_type": "code",
   "execution_count": null,
   "metadata": {},
   "outputs": [],
   "source": []
  }
 ],
 "metadata": {
  "kernelspec": {
   "display_name": "Python 3 (ipykernel)",
   "language": "python",
   "name": "python3"
  },
  "language_info": {
   "codemirror_mode": {
    "name": "ipython",
    "version": 3
   },
   "file_extension": ".py",
   "mimetype": "text/x-python",
   "name": "python",
   "nbconvert_exporter": "python",
   "pygments_lexer": "ipython3",
   "version": "3.11.4"
  },
  "vscode": {
   "interpreter": {
    "hash": "e6b040cf23f57b9d8608d2ddba61db56e4df3b14b0ca2f99a0560f462436658c"
   }
  }
 },
 "nbformat": 4,
 "nbformat_minor": 2
}
