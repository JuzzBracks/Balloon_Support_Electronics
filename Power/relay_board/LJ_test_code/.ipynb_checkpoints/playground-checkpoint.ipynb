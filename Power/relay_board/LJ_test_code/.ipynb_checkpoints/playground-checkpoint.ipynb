{
 "cells": [
  {
   "cell_type": "code",
   "execution_count": 1,
   "metadata": {},
   "outputs": [
    {
     "ename": "ModuleNotFoundError",
     "evalue": "No module named 'labjack'",
     "output_type": "error",
     "traceback": [
      "\u001b[1;31m---------------------------------------------------------------------------\u001b[0m",
      "\u001b[1;31mModuleNotFoundError\u001b[0m                       Traceback (most recent call last)",
      "Cell \u001b[1;32mIn[1], line 1\u001b[0m\n\u001b[1;32m----> 1\u001b[0m \u001b[38;5;28;01mfrom\u001b[39;00m \u001b[38;5;21;01mlabjack\u001b[39;00m \u001b[38;5;28;01mimport\u001b[39;00m ljm\n\u001b[0;32m      2\u001b[0m \u001b[38;5;28;01mimport\u001b[39;00m \u001b[38;5;21;01mtime\u001b[39;00m\n\u001b[0;32m      3\u001b[0m \u001b[38;5;28;01mimport\u001b[39;00m \u001b[38;5;21;01mnumpy\u001b[39;00m \u001b[38;5;28;01mas\u001b[39;00m \u001b[38;5;21;01mnp\u001b[39;00m\n",
      "\u001b[1;31mModuleNotFoundError\u001b[0m: No module named 'labjack'"
     ]
    }
   ],
   "source": [
    "from labjack import ljm\n",
    "import time\n",
    "import numpy as np\n",
    "import matplotlib.pyplot as plt\n",
    "\n",
    "# Open first found LabJack\n",
    "handle = ljm.openS(\"ANY\", \"ANY\", \"ANY\")  # Any device, Any connection, Any identifier\n",
    "#handle = ljm.openS(\"T7\", \"ANY\", \"ANY\")  # T7 device, Any connection, Any identifier\n",
    "#handle = ljm.openS(\"T4\", \"ANY\", \"ANY\")  # T4 device, Any connection, Any identifier\n",
    "#handle = ljm.open(ljm.constants.dtANY, ljm.constants.ctANY, \"ANY\")  # Any device, Any connection, Any identifier\n",
    "\n",
    "info = ljm.getHandleInfo(handle)\n",
    "print(\"Opened a LabJack with Device type: %i, Connection type: %i,\\n\"\n",
    "      \"Serial number: %i, IP address: %s, Port: %i,\\nMax bytes per MB: %i\" %\n",
    "      (info[0], info[1], info[2], ljm.numberToIP(info[3]), info[4], info[5]))\n",
    "\n",
    "def write_to(name, state):\n",
    "    deviceType = info[0]\n",
    "    # Output state = low (0 = low, 1 = high)\n",
    "    ljm.eWriteName(handle, name, state)\n",
    "    print(\"\\nSet %s state : %f\" % (name, state))\n",
    "\n"
   ]
  },
  {
   "cell_type": "code",
   "execution_count": 2,
   "metadata": {},
   "outputs": [],
   "source": [
    "def switch_on(num):\n",
    "    write_to(\"DIO\"+str(2*num-1), 0)\n",
    "    write_to(\"DIO\"+str(2*num), 1)\n",
    "\n",
    "def switch_off(num):\n",
    "    write_to(\"DIO\"+str(2*num-1), 1)\n",
    "    write_to(\"DIO\"+str(2*num), 0)"
   ]
  },
  {
   "cell_type": "code",
   "execution_count": 3,
   "metadata": {},
   "outputs": [],
   "source": [
    "def switch_all_off(delay=0.1):\n",
    "    for i in range(1, 11):\n",
    "        time.sleep(delay)\n",
    "        switch_off(i)\n",
    "\n",
    "def switch_all_on(delay=0.1):\n",
    "    for i in range(1, 11):\n",
    "        time.sleep(delay)\n",
    "        switch_on(i)\n",
    "\n",
    "def set_all_dio_to_zero(delay=0.1):\n",
    "    for i in range(1, 11):\n",
    "        time.sleep(delay)\n",
    "        write_to(\"DIO\"+str(2*i-1), 0)\n",
    "        write_to(\"DIO\"+str(2*i), 0)\n",
    "\n",
    "def set_all_dio_to_one(delay=0.1):\n",
    "    for i in range(1, 11):\n",
    "        time.sleep(delay)\n",
    "        write_to(\"DIO\"+str(2*i), 1)\n",
    "        write_to(\"DIO\"+str(2*i-1), 1)\n",
    "\n",
    "def set_even_dio(state, delay=0.1):\n",
    "    for i in range(1, 11):\n",
    "        time.sleep(delay)\n",
    "        write_to(\"DIO\"+str(2*i), state)\n",
    "\n",
    "def set_odd_dio(state, delay=0.1):\n",
    "    for i in range(1, 11):\n",
    "        time.sleep(delay)\n",
    "        write_to(\"DIO\"+str(2*i-1), state)"
   ]
  },
  {
   "cell_type": "code",
   "execution_count": 20,
   "metadata": {},
   "outputs": [
    {
     "ename": "SyntaxError",
     "evalue": "invalid syntax (424310379.py, line 1)",
     "output_type": "error",
     "traceback": [
      "\u001b[1;36m  Cell \u001b[1;32mIn[20], line 1\u001b[1;36m\u001b[0m\n\u001b[1;33m    192.168.1.110\u001b[0m\n\u001b[1;37m           ^\u001b[0m\n\u001b[1;31mSyntaxError\u001b[0m\u001b[1;31m:\u001b[0m invalid syntax\n"
     ]
    }
   ],
   "source": [
    "192.168.1.110"
   ]
  },
  {
   "cell_type": "code",
   "execution_count": 24,
   "metadata": {},
   "outputs": [
    {
     "name": "stdout",
     "output_type": "stream",
     "text": [
      "\n",
      "Set DIO1 state : 0.000000\n",
      "\n",
      "Set DIO2 state : 1.000000\n"
     ]
    }
   ],
   "source": [
    "switch_on(1)"
   ]
  },
  {
   "cell_type": "code",
   "execution_count": 173,
   "metadata": {},
   "outputs": [
    {
     "name": "stdout",
     "output_type": "stream",
     "text": [
      "\n",
      "Set DIO1 state : 0.000000\n",
      "\n",
      "Set DIO2 state : 0.000000\n",
      "\n",
      "Set DIO3 state : 0.000000\n",
      "\n",
      "Set DIO4 state : 0.000000\n",
      "\n",
      "Set DIO5 state : 0.000000\n",
      "\n",
      "Set DIO6 state : 0.000000\n",
      "\n",
      "Set DIO7 state : 0.000000\n",
      "\n",
      "Set DIO8 state : 0.000000\n",
      "\n",
      "Set DIO9 state : 0.000000\n",
      "\n",
      "Set DIO10 state : 0.000000\n",
      "\n",
      "Set DIO11 state : 0.000000\n",
      "\n",
      "Set DIO12 state : 0.000000\n",
      "\n",
      "Set DIO13 state : 0.000000\n",
      "\n",
      "Set DIO14 state : 0.000000\n",
      "\n",
      "Set DIO15 state : 0.000000\n",
      "\n",
      "Set DIO16 state : 0.000000\n",
      "\n",
      "Set DIO17 state : 0.000000\n",
      "\n",
      "Set DIO18 state : 0.000000\n",
      "\n",
      "Set DIO19 state : 0.000000\n",
      "\n",
      "Set DIO20 state : 0.000000\n"
     ]
    }
   ],
   "source": [
    "set_all_dio_to_zero()"
   ]
  },
  {
   "cell_type": "code",
   "execution_count": 22,
   "metadata": {},
   "outputs": [
    {
     "name": "stdout",
     "output_type": "stream",
     "text": [
      "\n",
      "Set DIO1 state : 1.000000\n",
      "\n",
      "Set DIO2 state : 0.000000\n",
      "\n",
      "Set DIO3 state : 1.000000\n",
      "\n",
      "Set DIO4 state : 0.000000\n",
      "\n",
      "Set DIO5 state : 1.000000\n",
      "\n",
      "Set DIO6 state : 0.000000\n",
      "\n",
      "Set DIO7 state : 1.000000\n",
      "\n",
      "Set DIO8 state : 0.000000\n",
      "\n",
      "Set DIO9 state : 1.000000\n",
      "\n",
      "Set DIO10 state : 0.000000\n",
      "\n",
      "Set DIO11 state : 1.000000\n",
      "\n",
      "Set DIO12 state : 0.000000\n",
      "\n",
      "Set DIO13 state : 1.000000\n",
      "\n",
      "Set DIO14 state : 0.000000\n",
      "\n",
      "Set DIO15 state : 1.000000\n",
      "\n",
      "Set DIO16 state : 0.000000\n",
      "\n",
      "Set DIO17 state : 1.000000\n",
      "\n",
      "Set DIO18 state : 0.000000\n",
      "\n",
      "Set DIO19 state : 1.000000\n",
      "\n",
      "Set DIO20 state : 0.000000\n"
     ]
    }
   ],
   "source": [
    "switch_all_off()"
   ]
  },
  {
   "cell_type": "code",
   "execution_count": 4,
   "metadata": {},
   "outputs": [
    {
     "name": "stdout",
     "output_type": "stream",
     "text": [
      "\n",
      "Set DIO1 state : 0.000000\n",
      "\n",
      "Set DIO2 state : 1.000000\n",
      "\n",
      "Set DIO3 state : 0.000000\n",
      "\n",
      "Set DIO4 state : 1.000000\n",
      "\n",
      "Set DIO5 state : 0.000000\n",
      "\n",
      "Set DIO6 state : 1.000000\n",
      "\n",
      "Set DIO7 state : 0.000000\n",
      "\n",
      "Set DIO8 state : 1.000000\n",
      "\n",
      "Set DIO9 state : 0.000000\n",
      "\n",
      "Set DIO10 state : 1.000000\n",
      "\n",
      "Set DIO11 state : 0.000000\n",
      "\n",
      "Set DIO12 state : 1.000000\n",
      "\n",
      "Set DIO13 state : 0.000000\n",
      "\n",
      "Set DIO14 state : 1.000000\n",
      "\n",
      "Set DIO15 state : 0.000000\n",
      "\n",
      "Set DIO16 state : 1.000000\n",
      "\n",
      "Set DIO17 state : 0.000000\n",
      "\n",
      "Set DIO18 state : 1.000000\n",
      "\n",
      "Set DIO19 state : 0.000000\n",
      "\n",
      "Set DIO20 state : 1.000000\n"
     ]
    }
   ],
   "source": [
    "switch_all_on()"
   ]
  },
  {
   "cell_type": "code",
   "execution_count": 114,
   "metadata": {},
   "outputs": [
    {
     "name": "stdout",
     "output_type": "stream",
     "text": [
      "\n",
      "Set DIO2 state : 1.000000\n",
      "\n",
      "Set DIO1 state : 1.000000\n",
      "\n",
      "Set DIO4 state : 1.000000\n",
      "\n",
      "Set DIO3 state : 1.000000\n",
      "\n",
      "Set DIO6 state : 1.000000\n",
      "\n",
      "Set DIO5 state : 1.000000\n",
      "\n",
      "Set DIO8 state : 1.000000\n",
      "\n",
      "Set DIO7 state : 1.000000\n",
      "\n",
      "Set DIO10 state : 1.000000\n",
      "\n",
      "Set DIO9 state : 1.000000\n",
      "\n",
      "Set DIO12 state : 1.000000\n",
      "\n",
      "Set DIO11 state : 1.000000\n",
      "\n",
      "Set DIO14 state : 1.000000\n",
      "\n",
      "Set DIO13 state : 1.000000\n",
      "\n",
      "Set DIO16 state : 1.000000\n",
      "\n",
      "Set DIO15 state : 1.000000\n",
      "\n",
      "Set DIO18 state : 1.000000\n",
      "\n",
      "Set DIO17 state : 1.000000\n",
      "\n",
      "Set DIO20 state : 1.000000\n",
      "\n",
      "Set DIO19 state : 1.000000\n"
     ]
    }
   ],
   "source": [
    "set_all_dio_to_one()"
   ]
  },
  {
   "cell_type": "code",
   "execution_count": 16,
   "metadata": {},
   "outputs": [],
   "source": [
    "# Close handle\n",
    "ljm.close(handle)"
   ]
  },
  {
   "cell_type": "markdown",
   "metadata": {},
   "source": [
    "# Read AIN"
   ]
  },
  {
   "cell_type": "code",
   "execution_count": 6,
   "metadata": {},
   "outputs": [],
   "source": [
    "def read(name):\n",
    "    result = ljm.eReadName(handle, name)\n",
    "    # print(\"\\n%s state : %f\" % (name, result))\n",
    "    return result"
   ]
  },
  {
   "cell_type": "code",
   "execution_count": 7,
   "metadata": {},
   "outputs": [
    {
     "name": "stdout",
     "output_type": "stream",
     "text": [
      "0\n"
     ]
    },
    {
     "ename": "LJMError",
     "evalue": "LJM library error code 2605 STREAM_IS_ACTIVE",
     "output_type": "error",
     "traceback": [
      "\u001b[1;31m---------------------------------------------------------------------------\u001b[0m",
      "\u001b[1;31mLJMError\u001b[0m                                  Traceback (most recent call last)",
      "Cell \u001b[1;32mIn[7], line 8\u001b[0m\n\u001b[0;32m      6\u001b[0m time\u001b[39m.\u001b[39msleep(\u001b[39m0.5\u001b[39m)\n\u001b[0;32m      7\u001b[0m \u001b[39mfor\u001b[39;00m i \u001b[39min\u001b[39;00m \u001b[39mrange\u001b[39m(\u001b[39m1\u001b[39m, \u001b[39m15\u001b[39m):\n\u001b[1;32m----> 8\u001b[0m     data_off[\u001b[39m\"\u001b[39m\u001b[39mAIN\u001b[39m\u001b[39m\"\u001b[39m\u001b[39m+\u001b[39m\u001b[39mstr\u001b[39m(i)] \u001b[39m=\u001b[39m np\u001b[39m.\u001b[39mappend(data_off[\u001b[39m\"\u001b[39m\u001b[39mAIN\u001b[39m\u001b[39m\"\u001b[39m\u001b[39m+\u001b[39m\u001b[39mstr\u001b[39m(i)], read(\u001b[39m\"\u001b[39;49m\u001b[39mAIN\u001b[39;49m\u001b[39m\"\u001b[39;49m\u001b[39m+\u001b[39;49m\u001b[39mstr\u001b[39;49m(i)))\n",
      "Cell \u001b[1;32mIn[6], line 2\u001b[0m, in \u001b[0;36mread\u001b[1;34m(name)\u001b[0m\n\u001b[0;32m      1\u001b[0m \u001b[39mdef\u001b[39;00m \u001b[39mread\u001b[39m(name):\n\u001b[1;32m----> 2\u001b[0m     result \u001b[39m=\u001b[39m ljm\u001b[39m.\u001b[39;49meReadName(handle, name)\n\u001b[0;32m      3\u001b[0m     \u001b[39m# print(\"\\n%s state : %f\" % (name, result))\u001b[39;00m\n\u001b[0;32m      4\u001b[0m     \u001b[39mreturn\u001b[39;00m result\n",
      "File \u001b[1;32mc:\\Users\\shubh\\anaconda3\\envs\\tim-lj\\lib\\site-packages\\labjack\\ljm\\ljm.py:582\u001b[0m, in \u001b[0;36meReadName\u001b[1;34m(handle, name)\u001b[0m\n\u001b[0;32m    580\u001b[0m error \u001b[39m=\u001b[39m _staticLib\u001b[39m.\u001b[39mLJM_eReadName(handle, name\u001b[39m.\u001b[39mencode(\u001b[39m\"\u001b[39m\u001b[39mascii\u001b[39m\u001b[39m\"\u001b[39m), ctypes\u001b[39m.\u001b[39mbyref(cVal))\n\u001b[0;32m    581\u001b[0m \u001b[39mif\u001b[39;00m error \u001b[39m!=\u001b[39m errorcodes\u001b[39m.\u001b[39mNOERROR:\n\u001b[1;32m--> 582\u001b[0m     \u001b[39mraise\u001b[39;00m LJMError(error)\n\u001b[0;32m    584\u001b[0m \u001b[39mreturn\u001b[39;00m cVal\u001b[39m.\u001b[39mvalue\n",
      "\u001b[1;31mLJMError\u001b[0m: LJM library error code 2605 STREAM_IS_ACTIVE"
     ]
    }
   ],
   "source": [
    "data_off = {}\n",
    "for i in range(1, 15):\n",
    "    data_off[\"AIN\"+str(i)] = np.array([])\n",
    "for ind in range(10):\n",
    "    print(ind)\n",
    "    time.sleep(0.5)\n",
    "    for i in range(1, 15):\n",
    "        data_off[\"AIN\"+str(i)] = np.append(data_off[\"AIN\"+str(i)], read(\"AIN\"+str(i)))"
   ]
  },
  {
   "cell_type": "code",
   "execution_count": 25,
   "metadata": {},
   "outputs": [
    {
     "name": "stdout",
     "output_type": "stream",
     "text": [
      "\n",
      "Set DIO1 state : 0.000000\n",
      "\n",
      "Set DIO2 state : 1.000000\n",
      "\n",
      "Set DIO3 state : 0.000000\n",
      "\n",
      "Set DIO4 state : 1.000000\n",
      "\n",
      "Set DIO5 state : 0.000000\n",
      "\n",
      "Set DIO6 state : 1.000000\n",
      "\n",
      "Set DIO7 state : 0.000000\n",
      "\n",
      "Set DIO8 state : 1.000000\n",
      "\n",
      "Set DIO9 state : 0.000000\n",
      "\n",
      "Set DIO10 state : 1.000000\n",
      "\n",
      "Set DIO11 state : 0.000000\n",
      "\n",
      "Set DIO12 state : 1.000000\n",
      "\n",
      "Set DIO13 state : 0.000000\n",
      "\n",
      "Set DIO14 state : 1.000000\n",
      "\n",
      "Set DIO15 state : 0.000000\n",
      "\n",
      "Set DIO16 state : 1.000000\n",
      "\n",
      "Set DIO17 state : 0.000000\n",
      "\n",
      "Set DIO18 state : 1.000000\n",
      "\n",
      "Set DIO19 state : 0.000000\n",
      "\n",
      "Set DIO20 state : 1.000000\n"
     ]
    }
   ],
   "source": [
    "switch_all_on()"
   ]
  },
  {
   "cell_type": "code",
   "execution_count": 9,
   "metadata": {},
   "outputs": [
    {
     "name": "stdout",
     "output_type": "stream",
     "text": [
      "0\n",
      "1\n",
      "2\n",
      "3\n",
      "4\n",
      "5\n",
      "6\n",
      "7\n",
      "8\n",
      "9\n"
     ]
    }
   ],
   "source": [
    "data = {}\n",
    "for i in range(1, 15):\n",
    "    data[\"AIN\"+str(i)] = np.array([])\n",
    "for ind in range(10):\n",
    "    print(ind)\n",
    "    time.sleep(0.5)\n",
    "    for i in range(1, 15):\n",
    "        data[\"AIN\"+str(i)] = np.append(data[\"AIN\"+str(i)], read(\"AIN\"+str(i)))"
   ]
  },
  {
   "cell_type": "code",
   "execution_count": 10,
   "metadata": {},
   "outputs": [
    {
     "data": {
      "image/png": "[encoded data removed]",
      "text/plain": [
       "<Figure size 1000x1000 with 14 Axes>"
      ]
     },
     "metadata": {},
     "output_type": "display_data"
    }
   ],
   "source": [
    "fig, axes = plt.subplots(7, 2, figsize=(10, 10))\n",
    "for i, ax in enumerate(axes.ravel()):\n",
    "    ax.plot(data_off[\"AIN\"+str(i)])\n",
    "    ax.set_title(\"AIN\"+str(i))\n",
    "    ax.set_ylim(np.floor(np.nanmin(data_off[\"AIN\"+str(i+1)])), np.ceil(np.nanmax(data_off[\"AIN\"+str(i+1)])))\n",
    "    ax.axhline(0.5, color=\"red\")\n",
    "\n",
    "plt.show()"
   ]
  },
  {
   "cell_type": "code",
   "execution_count": 11,
   "metadata": {},
   "outputs": [
    {
     "data": {
      "image/png": "[encoded data removed]",
      "text/plain": [
       "<Figure size 1000x1000 with 14 Axes>"
      ]
     },
     "metadata": {},
     "output_type": "display_data"
    }
   ],
   "source": [
    "fig, axes = plt.subplots(7, 2, figsize=(10, 10))\n",
    "for i, ax in enumerate(axes.ravel()):\n",
    "    ax.plot(data[\"AIN\"+str(i+1)])\n",
    "    ax.set_title(\"AIN\"+str(i+1))\n",
    "    ax.set_ylim(np.floor(np.nanmin(data[\"AIN\"+str(i+1)])), np.ceil(np.nanmax(data[\"AIN\"+str(i+1)])))\n",
    "    ax.axhline(0.5, color=\"red\")\n",
    "\n",
    "plt.show()"
   ]
  },
  {
   "cell_type": "code",
   "execution_count": 12,
   "metadata": {},
   "outputs": [
    {
     "data": {
      "text/plain": [
       "array([0.22460383, 0.22373539, 0.21963012, 0.21986699, 0.22223538,\n",
       "       0.22405118, 0.22199851, 0.22270906, 0.2217617 , 0.22365642])"
      ]
     },
     "execution_count": 12,
     "metadata": {},
     "output_type": "execute_result"
    }
   ],
   "source": [
    "data[\"AIN11\"] - data_off[\"AIN11\"]"
   ]
  },
  {
   "cell_type": "code",
   "execution_count": 13,
   "metadata": {},
   "outputs": [
    {
     "name": "stdout",
     "output_type": "stream",
     "text": [
      "1\n",
      "0.51351597905159\n",
      "0.514858067035675\n",
      "0.00011843442916870117\n",
      "2\n",
      "-1.7149559259414673\n",
      "-1.653508484363556\n",
      "0.05702728033065796\n",
      "3\n",
      "0.5087002217769623\n",
      "0.5066871047019958\n",
      "-0.0019341707229614258\n",
      "4\n",
      "1.1912747025489807\n",
      "1.0029469728469849\n",
      "-0.18824881315231323\n",
      "5\n",
      "0.505739688873291\n",
      "0.5039239227771759\n",
      "-0.001973658800125122\n",
      "6\n",
      "0.5066870748996735\n",
      "0.5068055093288422\n",
      "-0.00015789270401000977\n",
      "7\n",
      "0.5051476061344147\n",
      "0.5042791962623596\n",
      "-0.001618415117263794\n",
      "8\n",
      "0.5090160071849823\n",
      "0.508344978094101\n",
      "-0.0011841952800750732\n",
      "9\n",
      "0.5062133967876434\n",
      "0.5040423572063446\n",
      "-0.002368420362472534\n",
      "10\n",
      "0.5150949060916901\n",
      "0.513437032699585\n",
      "-0.0006710290908813477\n",
      "11\n",
      "0.5030950009822845\n",
      "0.7255277633666992\n",
      "0.22247222065925598\n",
      "12\n",
      "-1.679555594921112\n",
      "-1.5425717234611511\n",
      "0.11752748489379883\n",
      "13\n",
      "0.5036870837211609\n",
      "0.5023844838142395\n",
      "-0.0012236535549163818\n",
      "14\n",
      "1.8325204849243164\n",
      "1.8323626518249512\n",
      "-0.00015783309936523438\n"
     ]
    }
   ],
   "source": [
    "for i in range(1, 15):\n",
    "    print(i)\n",
    "    print(np.nanmedian(data_off[\"AIN\"+str(i)], axis=0))\n",
    "    print(np.nanmedian(data[\"AIN\"+str(i)], axis=0))\n",
    "    print(np.nanmedian(data[\"AIN\"+str(i)] - data_off[\"AIN\"+str(i)], axis=0))"
   ]
  },
  {
   "cell_type": "code",
   "execution_count": 15,
   "metadata": {},
   "outputs": [
    {
     "data": {
      "text/plain": [
       "1.0395010395010393"
      ]
     },
     "execution_count": 15,
     "metadata": {},
     "output_type": "execute_result"
    }
   ],
   "source": [
    "(12/5.2)/2.22"
   ]
  },
  {
   "cell_type": "markdown",
   "metadata": {},
   "source": [
    "# Stress Tests"
   ]
  },
  {
   "cell_type": "code",
   "execution_count": 31,
   "metadata": {},
   "outputs": [
    {
     "name": "stdout",
     "output_type": "stream",
     "text": [
      "\n",
      "Set DIO1 state : 1.000000\n",
      "\n",
      "Set DIO2 state : 0.000000\n",
      "\n",
      "Set DIO3 state : 1.000000\n",
      "\n",
      "Set DIO4 state : 0.000000\n",
      "\n",
      "Set DIO5 state : 1.000000\n",
      "\n",
      "Set DIO6 state : 0.000000\n",
      "\n",
      "Set DIO7 state : 1.000000\n",
      "\n",
      "Set DIO8 state : 0.000000\n",
      "\n",
      "Set DIO9 state : 1.000000\n",
      "\n",
      "Set DIO10 state : 0.000000\n",
      "\n",
      "Set DIO11 state : 1.000000\n",
      "\n",
      "Set DIO12 state : 0.000000\n",
      "\n",
      "Set DIO13 state : 1.000000\n",
      "\n",
      "Set DIO14 state : 0.000000\n",
      "\n",
      "Set DIO15 state : 1.000000\n",
      "\n",
      "Set DIO16 state : 0.000000\n",
      "\n",
      "Set DIO17 state : 1.000000\n",
      "\n",
      "Set DIO18 state : 0.000000\n",
      "\n",
      "Set DIO19 state : 1.000000\n",
      "\n",
      "Set DIO20 state : 0.000000\n"
     ]
    }
   ],
   "source": [
    "switch_all_off(0)"
   ]
  },
  {
   "cell_type": "code",
   "execution_count": 27,
   "metadata": {},
   "outputs": [
    {
     "name": "stdout",
     "output_type": "stream",
     "text": [
      "\n",
      "Set DIO3 state : 1.000000\n",
      "\n",
      "Set DIO4 state : 0.000000\n"
     ]
    }
   ],
   "source": [
    "switch_off(2)"
   ]
  },
  {
   "cell_type": "code",
   "execution_count": 37,
   "metadata": {},
   "outputs": [
    {
     "ename": "LJMError",
     "evalue": "LJM library error code 1239 LJME_RECONNECT_FAILED",
     "output_type": "error",
     "traceback": [
      "\u001b[1;31m---------------------------------------------------------------------------\u001b[0m",
      "\u001b[1;31mLJMError\u001b[0m                                  Traceback (most recent call last)",
      "Cell \u001b[1;32mIn[37], line 3\u001b[0m\n\u001b[0;32m      1\u001b[0m \u001b[39mfor\u001b[39;00m i \u001b[39min\u001b[39;00m \u001b[39mrange\u001b[39m(\u001b[39m10000\u001b[39m):\n\u001b[0;32m      2\u001b[0m     time\u001b[39m.\u001b[39msleep(\u001b[39m0.05\u001b[39m)\n\u001b[1;32m----> 3\u001b[0m     switch_all_on(\u001b[39m0.01\u001b[39;49m)\n\u001b[0;32m      4\u001b[0m     time\u001b[39m.\u001b[39msleep(\u001b[39m0.05\u001b[39m)\n\u001b[0;32m      5\u001b[0m     switch_all_off(\u001b[39m0.01\u001b[39m)\n",
      "Cell \u001b[1;32mIn[36], line 9\u001b[0m, in \u001b[0;36mswitch_all_on\u001b[1;34m(delay)\u001b[0m\n\u001b[0;32m      7\u001b[0m \u001b[39mfor\u001b[39;00m i \u001b[39min\u001b[39;00m \u001b[39mrange\u001b[39m(\u001b[39m1\u001b[39m, \u001b[39m11\u001b[39m):\n\u001b[0;32m      8\u001b[0m     time\u001b[39m.\u001b[39msleep(delay)\n\u001b[1;32m----> 9\u001b[0m     switch_on(i)\n",
      "Cell \u001b[1;32mIn[35], line 2\u001b[0m, in \u001b[0;36mswitch_on\u001b[1;34m(num)\u001b[0m\n\u001b[0;32m      1\u001b[0m \u001b[39mdef\u001b[39;00m \u001b[39mswitch_on\u001b[39m(num):\n\u001b[1;32m----> 2\u001b[0m     write_to(\u001b[39m\"\u001b[39;49m\u001b[39mDIO\u001b[39;49m\u001b[39m\"\u001b[39;49m\u001b[39m+\u001b[39;49m\u001b[39mstr\u001b[39;49m(\u001b[39m2\u001b[39;49m\u001b[39m*\u001b[39;49mnum\u001b[39m-\u001b[39;49m\u001b[39m1\u001b[39;49m), \u001b[39m0\u001b[39;49m)\n\u001b[0;32m      3\u001b[0m     write_to(\u001b[39m\"\u001b[39m\u001b[39mDIO\u001b[39m\u001b[39m\"\u001b[39m\u001b[39m+\u001b[39m\u001b[39mstr\u001b[39m(\u001b[39m2\u001b[39m\u001b[39m*\u001b[39mnum), \u001b[39m1\u001b[39m)\n",
      "Cell \u001b[1;32mIn[34], line 20\u001b[0m, in \u001b[0;36mwrite_to\u001b[1;34m(name, state)\u001b[0m\n\u001b[0;32m     18\u001b[0m deviceType \u001b[39m=\u001b[39m info[\u001b[39m0\u001b[39m]\n\u001b[0;32m     19\u001b[0m \u001b[39m# Output state = low (0 = low, 1 = high)\u001b[39;00m\n\u001b[1;32m---> 20\u001b[0m ljm\u001b[39m.\u001b[39;49meWriteName(handle, name, state)\n\u001b[0;32m     21\u001b[0m \u001b[39mprint\u001b[39m(\u001b[39m\"\u001b[39m\u001b[39m\\n\u001b[39;00m\u001b[39mSet \u001b[39m\u001b[39m%s\u001b[39;00m\u001b[39m state : \u001b[39m\u001b[39m%f\u001b[39;00m\u001b[39m\"\u001b[39m \u001b[39m%\u001b[39m (name, state))\n",
      "File \u001b[1;32mc:\\Users\\shubh\\anaconda3\\envs\\tim-lj\\lib\\site-packages\\labjack\\ljm\\ljm.py:558\u001b[0m, in \u001b[0;36meWriteName\u001b[1;34m(handle, name, value)\u001b[0m\n\u001b[0;32m    556\u001b[0m error \u001b[39m=\u001b[39m _staticLib\u001b[39m.\u001b[39mLJM_eWriteName(handle, name\u001b[39m.\u001b[39mencode(\u001b[39m\"\u001b[39m\u001b[39mascii\u001b[39m\u001b[39m\"\u001b[39m), cVal)\n\u001b[0;32m    557\u001b[0m \u001b[39mif\u001b[39;00m error \u001b[39m!=\u001b[39m errorcodes\u001b[39m.\u001b[39mNOERROR:\n\u001b[1;32m--> 558\u001b[0m     \u001b[39mraise\u001b[39;00m LJMError(error)\n",
      "\u001b[1;31mLJMError\u001b[0m: LJM library error code 1239 LJME_RECONNECT_FAILED"
     ]
    }
   ],
   "source": [
    "for i in range(10000):\n",
    "    time.sleep(0.05)\n",
    "    switch_all_on(0.01)\n",
    "    time.sleep(0.05)\n",
    "    switch_all_off(0.01)"
   ]
  },
  {
   "cell_type": "code",
   "execution_count": null,
   "metadata": {},
   "outputs": [],
   "source": []
  }
 ],
 "metadata": {
  "kernelspec": {
   "display_name": "Python 3 (ipykernel)",
   "language": "python",
   "name": "python3"
  },
  "language_info": {
   "codemirror_mode": {
    "name": "ipython",
    "version": 3
   },
   "file_extension": ".py",
   "mimetype": "text/x-python",
   "name": "python",
   "nbconvert_exporter": "python",
   "pygments_lexer": "ipython3",
   "version": "3.11.4"
  },
  "vscode": {
   "interpreter": {
    "hash": "e6b040cf23f57b9d8608d2ddba61db56e4df3b14b0ca2f99a0560f462436658c"
   }
  }
 },
 "nbformat": 4,
 "nbformat_minor": 2
}
